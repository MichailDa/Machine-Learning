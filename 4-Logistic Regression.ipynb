{
 "cells": [
  {
   "cell_type": "code",
   "execution_count": 1,
   "id": "a9773e27",
   "metadata": {
    "execution": {
     "iopub.execute_input": "2023-10-22T13:43:24.767790Z",
     "iopub.status.busy": "2023-10-22T13:43:24.765811Z",
     "iopub.status.idle": "2023-10-22T13:43:26.566118Z",
     "shell.execute_reply": "2023-10-22T13:43:26.564777Z"
    },
    "papermill": {
     "duration": 1.811645,
     "end_time": "2023-10-22T13:43:26.569109",
     "exception": false,
     "start_time": "2023-10-22T13:43:24.757464",
     "status": "completed"
    },
    "tags": []
   },
   "outputs": [],
   "source": [
    "import matplotlib.pyplot as plt\n",
    "import numpy as np\n",
    "from sklearn.linear_model import LogisticRegression\n",
    "from sklearn.metrics import classification_report, confusion_matrix"
   ]
  },
  {
   "cell_type": "code",
   "execution_count": 2,
   "id": "aff96f57",
   "metadata": {
    "execution": {
     "iopub.execute_input": "2023-10-22T13:43:26.586099Z",
     "iopub.status.busy": "2023-10-22T13:43:26.585405Z",
     "iopub.status.idle": "2023-10-22T13:43:26.599076Z",
     "shell.execute_reply": "2023-10-22T13:43:26.597617Z"
    },
    "papermill": {
     "duration": 0.02626,
     "end_time": "2023-10-22T13:43:26.603752",
     "exception": false,
     "start_time": "2023-10-22T13:43:26.577492",
     "status": "completed"
    },
    "tags": []
   },
   "outputs": [
    {
     "data": {
      "text/plain": [
       "array([[0],\n",
       "       [1],\n",
       "       [2],\n",
       "       [3],\n",
       "       [4],\n",
       "       [5],\n",
       "       [6],\n",
       "       [7],\n",
       "       [8],\n",
       "       [9]])"
      ]
     },
     "execution_count": 2,
     "metadata": {},
     "output_type": "execute_result"
    }
   ],
   "source": [
    "x = np.arange(10).reshape(-1,1)\n",
    "y = np.array([0, 0, 0, 0, 1, 1, 1, 1, 1, 1])\n",
    "x"
   ]
  },
  {
   "cell_type": "code",
   "execution_count": 3,
   "id": "e367f96a",
   "metadata": {
    "execution": {
     "iopub.execute_input": "2023-10-22T13:43:26.617358Z",
     "iopub.status.busy": "2023-10-22T13:43:26.616920Z",
     "iopub.status.idle": "2023-10-22T13:43:26.624454Z",
     "shell.execute_reply": "2023-10-22T13:43:26.623206Z"
    },
    "papermill": {
     "duration": 0.018084,
     "end_time": "2023-10-22T13:43:26.627572",
     "exception": false,
     "start_time": "2023-10-22T13:43:26.609488",
     "status": "completed"
    },
    "tags": []
   },
   "outputs": [
    {
     "data": {
      "text/plain": [
       "array([0, 0, 0, 0, 1, 1, 1, 1, 1, 1])"
      ]
     },
     "execution_count": 3,
     "metadata": {},
     "output_type": "execute_result"
    }
   ],
   "source": [
    "y"
   ]
  },
  {
   "cell_type": "code",
   "execution_count": 4,
   "id": "b95812b6",
   "metadata": {
    "execution": {
     "iopub.execute_input": "2023-10-22T13:43:26.643093Z",
     "iopub.status.busy": "2023-10-22T13:43:26.642632Z",
     "iopub.status.idle": "2023-10-22T13:43:26.657365Z",
     "shell.execute_reply": "2023-10-22T13:43:26.656096Z"
    },
    "papermill": {
     "duration": 0.02722,
     "end_time": "2023-10-22T13:43:26.661247",
     "exception": false,
     "start_time": "2023-10-22T13:43:26.634027",
     "status": "completed"
    },
    "tags": []
   },
   "outputs": [],
   "source": [
    "model = LogisticRegression(solver='liblinear', random_state=0).fit(x, y)"
   ]
  },
  {
   "cell_type": "code",
   "execution_count": 5,
   "id": "08777000",
   "metadata": {
    "execution": {
     "iopub.execute_input": "2023-10-22T13:43:26.676954Z",
     "iopub.status.busy": "2023-10-22T13:43:26.676509Z",
     "iopub.status.idle": "2023-10-22T13:43:26.684888Z",
     "shell.execute_reply": "2023-10-22T13:43:26.683532Z"
    },
    "papermill": {
     "duration": 0.019589,
     "end_time": "2023-10-22T13:43:26.687543",
     "exception": false,
     "start_time": "2023-10-22T13:43:26.667954",
     "status": "completed"
    },
    "tags": []
   },
   "outputs": [
    {
     "data": {
      "text/plain": [
       "array([[0.74002157, 0.25997843],\n",
       "       [0.62975524, 0.37024476],\n",
       "       [0.5040632 , 0.4959368 ],\n",
       "       [0.37785549, 0.62214451],\n",
       "       [0.26628093, 0.73371907],\n",
       "       [0.17821501, 0.82178499],\n",
       "       [0.11472079, 0.88527921],\n",
       "       [0.07186982, 0.92813018],\n",
       "       [0.04422513, 0.95577487],\n",
       "       [0.02690569, 0.97309431]])"
      ]
     },
     "execution_count": 5,
     "metadata": {},
     "output_type": "execute_result"
    }
   ],
   "source": [
    "model.predict_proba(x)"
   ]
  },
  {
   "cell_type": "code",
   "execution_count": 6,
   "id": "9cf8ab52",
   "metadata": {
    "execution": {
     "iopub.execute_input": "2023-10-22T13:43:26.702331Z",
     "iopub.status.busy": "2023-10-22T13:43:26.701902Z",
     "iopub.status.idle": "2023-10-22T13:43:26.710016Z",
     "shell.execute_reply": "2023-10-22T13:43:26.708591Z"
    },
    "papermill": {
     "duration": 0.018624,
     "end_time": "2023-10-22T13:43:26.712754",
     "exception": false,
     "start_time": "2023-10-22T13:43:26.694130",
     "status": "completed"
    },
    "tags": []
   },
   "outputs": [
    {
     "data": {
      "text/plain": [
       "array([0, 0, 0, 1, 1, 1, 1, 1, 1, 1])"
      ]
     },
     "execution_count": 6,
     "metadata": {},
     "output_type": "execute_result"
    }
   ],
   "source": [
    "model.predict(x)"
   ]
  },
  {
   "cell_type": "code",
   "execution_count": 7,
   "id": "579c65bd",
   "metadata": {
    "execution": {
     "iopub.execute_input": "2023-10-22T13:43:26.728118Z",
     "iopub.status.busy": "2023-10-22T13:43:26.727682Z",
     "iopub.status.idle": "2023-10-22T13:43:26.736943Z",
     "shell.execute_reply": "2023-10-22T13:43:26.736084Z"
    },
    "papermill": {
     "duration": 0.019909,
     "end_time": "2023-10-22T13:43:26.739225",
     "exception": false,
     "start_time": "2023-10-22T13:43:26.719316",
     "status": "completed"
    },
    "tags": []
   },
   "outputs": [
    {
     "data": {
      "text/plain": [
       "0.9"
      ]
     },
     "execution_count": 7,
     "metadata": {},
     "output_type": "execute_result"
    }
   ],
   "source": [
    "model.score(x, y)"
   ]
  },
  {
   "cell_type": "code",
   "execution_count": 8,
   "id": "a8427b8b",
   "metadata": {
    "execution": {
     "iopub.execute_input": "2023-10-22T13:43:26.755312Z",
     "iopub.status.busy": "2023-10-22T13:43:26.754902Z",
     "iopub.status.idle": "2023-10-22T13:43:26.764745Z",
     "shell.execute_reply": "2023-10-22T13:43:26.763325Z"
    },
    "papermill": {
     "duration": 0.02134,
     "end_time": "2023-10-22T13:43:26.767499",
     "exception": false,
     "start_time": "2023-10-22T13:43:26.746159",
     "status": "completed"
    },
    "tags": []
   },
   "outputs": [
    {
     "data": {
      "text/plain": [
       "array([[3, 1],\n",
       "       [0, 6]])"
      ]
     },
     "execution_count": 8,
     "metadata": {},
     "output_type": "execute_result"
    }
   ],
   "source": [
    "confusion_matrix(y, model.predict(x))"
   ]
  },
  {
   "cell_type": "markdown",
   "id": "7748782e",
   "metadata": {
    "papermill": {
     "duration": 0.007395,
     "end_time": "2023-10-22T13:43:26.782407",
     "exception": false,
     "start_time": "2023-10-22T13:43:26.775012",
     "status": "completed"
    },
    "tags": []
   },
   "source": [
    "C is Regularization strengh"
   ]
  },
  {
   "cell_type": "code",
   "execution_count": 9,
   "id": "2a6d8c12",
   "metadata": {
    "execution": {
     "iopub.execute_input": "2023-10-22T13:43:26.798726Z",
     "iopub.status.busy": "2023-10-22T13:43:26.798292Z",
     "iopub.status.idle": "2023-10-22T13:43:26.806291Z",
     "shell.execute_reply": "2023-10-22T13:43:26.804787Z"
    },
    "papermill": {
     "duration": 0.019399,
     "end_time": "2023-10-22T13:43:26.809245",
     "exception": false,
     "start_time": "2023-10-22T13:43:26.789846",
     "status": "completed"
    },
    "tags": []
   },
   "outputs": [],
   "source": [
    "model = LogisticRegression(solver='liblinear', C = 10, random_state=0).fit(x, y)"
   ]
  },
  {
   "cell_type": "code",
   "execution_count": 10,
   "id": "f354572f",
   "metadata": {
    "execution": {
     "iopub.execute_input": "2023-10-22T13:43:26.825492Z",
     "iopub.status.busy": "2023-10-22T13:43:26.824026Z",
     "iopub.status.idle": "2023-10-22T13:43:26.833834Z",
     "shell.execute_reply": "2023-10-22T13:43:26.832550Z"
    },
    "papermill": {
     "duration": 0.020264,
     "end_time": "2023-10-22T13:43:26.836226",
     "exception": false,
     "start_time": "2023-10-22T13:43:26.815962",
     "status": "completed"
    },
    "tags": []
   },
   "outputs": [
    {
     "data": {
      "text/plain": [
       "array([[0.97106534, 0.02893466],\n",
       "       [0.9162684 , 0.0837316 ],\n",
       "       [0.7810904 , 0.2189096 ],\n",
       "       [0.53777071, 0.46222929],\n",
       "       [0.27502212, 0.72497788],\n",
       "       [0.11007743, 0.88992257],\n",
       "       [0.03876835, 0.96123165],\n",
       "       [0.01298011, 0.98701989],\n",
       "       [0.0042697 , 0.9957303 ],\n",
       "       [0.00139621, 0.99860379]])"
      ]
     },
     "execution_count": 10,
     "metadata": {},
     "output_type": "execute_result"
    }
   ],
   "source": [
    "model.predict_proba(x)"
   ]
  },
  {
   "cell_type": "code",
   "execution_count": 11,
   "id": "7284cc5b",
   "metadata": {
    "execution": {
     "iopub.execute_input": "2023-10-22T13:43:26.852057Z",
     "iopub.status.busy": "2023-10-22T13:43:26.851516Z",
     "iopub.status.idle": "2023-10-22T13:43:26.860459Z",
     "shell.execute_reply": "2023-10-22T13:43:26.859179Z"
    },
    "papermill": {
     "duration": 0.02008,
     "end_time": "2023-10-22T13:43:26.862945",
     "exception": false,
     "start_time": "2023-10-22T13:43:26.842865",
     "status": "completed"
    },
    "tags": []
   },
   "outputs": [
    {
     "data": {
      "text/plain": [
       "array([0, 0, 0, 0, 1, 1, 1, 1, 1, 1])"
      ]
     },
     "execution_count": 11,
     "metadata": {},
     "output_type": "execute_result"
    }
   ],
   "source": [
    "model.predict(x)"
   ]
  },
  {
   "cell_type": "code",
   "execution_count": 12,
   "id": "6d2ab06c",
   "metadata": {
    "execution": {
     "iopub.execute_input": "2023-10-22T13:43:26.878330Z",
     "iopub.status.busy": "2023-10-22T13:43:26.877878Z",
     "iopub.status.idle": "2023-10-22T13:43:26.888100Z",
     "shell.execute_reply": "2023-10-22T13:43:26.886904Z"
    },
    "papermill": {
     "duration": 0.020884,
     "end_time": "2023-10-22T13:43:26.890483",
     "exception": false,
     "start_time": "2023-10-22T13:43:26.869599",
     "status": "completed"
    },
    "tags": []
   },
   "outputs": [
    {
     "data": {
      "text/plain": [
       "1.0"
      ]
     },
     "execution_count": 12,
     "metadata": {},
     "output_type": "execute_result"
    }
   ],
   "source": [
    "model.score(x, y)"
   ]
  },
  {
   "cell_type": "code",
   "execution_count": 13,
   "id": "87e9e52d",
   "metadata": {
    "execution": {
     "iopub.execute_input": "2023-10-22T13:43:26.906835Z",
     "iopub.status.busy": "2023-10-22T13:43:26.906279Z",
     "iopub.status.idle": "2023-10-22T13:43:26.916395Z",
     "shell.execute_reply": "2023-10-22T13:43:26.915056Z"
    },
    "papermill": {
     "duration": 0.021132,
     "end_time": "2023-10-22T13:43:26.918606",
     "exception": false,
     "start_time": "2023-10-22T13:43:26.897474",
     "status": "completed"
    },
    "tags": []
   },
   "outputs": [
    {
     "data": {
      "text/plain": [
       "array([[4, 0],\n",
       "       [0, 6]])"
      ]
     },
     "execution_count": 13,
     "metadata": {},
     "output_type": "execute_result"
    }
   ],
   "source": [
    "confusion_matrix(y, model.predict(x))"
   ]
  },
  {
   "cell_type": "markdown",
   "id": "d4fc0e24",
   "metadata": {
    "papermill": {
     "duration": 0.00677,
     "end_time": "2023-10-22T13:43:26.934190",
     "exception": false,
     "start_time": "2023-10-22T13:43:26.927420",
     "status": "completed"
    },
    "tags": []
   },
   "source": [
    "In logistic regression, the regularization strength is controlled by the hyperparameter known as \"C,\" which is the inverse of the regularization strength. It is used to balance the trade-off between fitting the training data well and preventing overfitting. Here's what C does in logistic regression:\n",
    "\n",
    "Low Values of C (High Regularization): When C is small (e.g., 0.01 or 0.001), it means strong regularization. In this case, the algorithm will emphasize simpler models that are less likely to overfit the training data. The model will under-predict the training data to avoid fitting noise, which can lead to high bias and underfitting.\n",
    "\n",
    "High Values of C (Low Regularization): When C is large (e.g., 1, 10, or 100), it means weak regularization. A higher C allows the logistic regression model to fit the training data more closely, even if it means capturing noise in the data. This can lead to a more complex model that is prone to overfitting the training data.\n",
    "\n",
    "In summary, the choice of the regularization parameter C in logistic regression is crucial. Selecting a small C encourages a simpler model that is less likely to overfit but might have high bias. Choosing a large C allows the model to fit the data more closely but increases the risk of overfitting. The optimal value of C depends on the specific dataset and the problem you're trying to solve. It's often determined through techniques like cross-validation, where different values of C are tried, and the one that results in the best model performance on a validation set is selected."
   ]
  }
 ],
 "metadata": {
  "kernelspec": {
   "display_name": "Python 3",
   "language": "python",
   "name": "python3"
  },
  "language_info": {
   "codemirror_mode": {
    "name": "ipython",
    "version": 3
   },
   "file_extension": ".py",
   "mimetype": "text/x-python",
   "name": "python",
   "nbconvert_exporter": "python",
   "pygments_lexer": "ipython3",
   "version": "3.10.12"
  },
  "papermill": {
   "default_parameters": {},
   "duration": 7.219007,
   "end_time": "2023-10-22T13:43:27.663367",
   "environment_variables": {},
   "exception": null,
   "input_path": "__notebook__.ipynb",
   "output_path": "__notebook__.ipynb",
   "parameters": {},
   "start_time": "2023-10-22T13:43:20.444360",
   "version": "2.4.0"
  }
 },
 "nbformat": 4,
 "nbformat_minor": 5
}
