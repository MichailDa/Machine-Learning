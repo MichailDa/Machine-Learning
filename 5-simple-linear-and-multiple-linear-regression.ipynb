{
 "cells": [
  {
   "cell_type": "code",
   "execution_count": 1,
   "id": "15c97137",
   "metadata": {
    "execution": {
     "iopub.execute_input": "2023-10-22T13:48:54.891518Z",
     "iopub.status.busy": "2023-10-22T13:48:54.890896Z",
     "iopub.status.idle": "2023-10-22T13:48:57.980109Z",
     "shell.execute_reply": "2023-10-22T13:48:57.979163Z"
    },
    "papermill": {
     "duration": 3.097535,
     "end_time": "2023-10-22T13:48:57.982573",
     "exception": false,
     "start_time": "2023-10-22T13:48:54.885038",
     "status": "completed"
    },
    "tags": []
   },
   "outputs": [],
   "source": [
    "import pandas as pd\n",
    "import numpy as np\n",
    "from sklearn.model_selection import train_test_split\n",
    "from sklearn.linear_model import LinearRegression\n",
    "from math import sqrt\n",
    "from sklearn.metrics import mean_squared_error\n",
    "import statsmodels.api as sm\n",
    "import matplotlib.pyplot as plt\n",
    "from sklearn.preprocessing import MinMaxScaler\n",
    "import scipy as sp"
   ]
  },
  {
   "cell_type": "code",
   "execution_count": 2,
   "id": "fc38840b",
   "metadata": {
    "execution": {
     "iopub.execute_input": "2023-10-22T13:48:57.993603Z",
     "iopub.status.busy": "2023-10-22T13:48:57.993123Z",
     "iopub.status.idle": "2023-10-22T13:48:58.039146Z",
     "shell.execute_reply": "2023-10-22T13:48:58.038259Z"
    },
    "papermill": {
     "duration": 0.053047,
     "end_time": "2023-10-22T13:48:58.041470",
     "exception": false,
     "start_time": "2023-10-22T13:48:57.988423",
     "status": "completed"
    },
    "tags": []
   },
   "outputs": [
    {
     "data": {
      "text/html": [
       "<div>\n",
       "<style scoped>\n",
       "    .dataframe tbody tr th:only-of-type {\n",
       "        vertical-align: middle;\n",
       "    }\n",
       "\n",
       "    .dataframe tbody tr th {\n",
       "        vertical-align: top;\n",
       "    }\n",
       "\n",
       "    .dataframe thead th {\n",
       "        text-align: right;\n",
       "    }\n",
       "</style>\n",
       "<table border=\"1\" class=\"dataframe\">\n",
       "  <thead>\n",
       "    <tr style=\"text-align: right;\">\n",
       "      <th></th>\n",
       "      <th>Model</th>\n",
       "      <th>MPG</th>\n",
       "      <th>Cylinders</th>\n",
       "      <th>Displacement</th>\n",
       "      <th>Horsepower</th>\n",
       "      <th>Weight</th>\n",
       "      <th>Acceleration</th>\n",
       "      <th>Year</th>\n",
       "      <th>Origin</th>\n",
       "    </tr>\n",
       "  </thead>\n",
       "  <tbody>\n",
       "    <tr>\n",
       "      <th>0</th>\n",
       "      <td>chevrolet chevelle malibu</td>\n",
       "      <td>18.0</td>\n",
       "      <td>8</td>\n",
       "      <td>307.0</td>\n",
       "      <td>130</td>\n",
       "      <td>3504</td>\n",
       "      <td>12.0</td>\n",
       "      <td>70</td>\n",
       "      <td>US</td>\n",
       "    </tr>\n",
       "    <tr>\n",
       "      <th>1</th>\n",
       "      <td>buick skylark 320</td>\n",
       "      <td>15.0</td>\n",
       "      <td>8</td>\n",
       "      <td>350.0</td>\n",
       "      <td>165</td>\n",
       "      <td>3693</td>\n",
       "      <td>11.5</td>\n",
       "      <td>70</td>\n",
       "      <td>US</td>\n",
       "    </tr>\n",
       "    <tr>\n",
       "      <th>2</th>\n",
       "      <td>plymouth satellite</td>\n",
       "      <td>18.0</td>\n",
       "      <td>8</td>\n",
       "      <td>318.0</td>\n",
       "      <td>150</td>\n",
       "      <td>3436</td>\n",
       "      <td>11.0</td>\n",
       "      <td>70</td>\n",
       "      <td>US</td>\n",
       "    </tr>\n",
       "    <tr>\n",
       "      <th>3</th>\n",
       "      <td>amc rebel sst</td>\n",
       "      <td>16.0</td>\n",
       "      <td>8</td>\n",
       "      <td>304.0</td>\n",
       "      <td>150</td>\n",
       "      <td>3433</td>\n",
       "      <td>12.0</td>\n",
       "      <td>70</td>\n",
       "      <td>US</td>\n",
       "    </tr>\n",
       "    <tr>\n",
       "      <th>4</th>\n",
       "      <td>ford torino</td>\n",
       "      <td>17.0</td>\n",
       "      <td>8</td>\n",
       "      <td>302.0</td>\n",
       "      <td>140</td>\n",
       "      <td>3449</td>\n",
       "      <td>10.5</td>\n",
       "      <td>70</td>\n",
       "      <td>US</td>\n",
       "    </tr>\n",
       "    <tr>\n",
       "      <th>...</th>\n",
       "      <td>...</td>\n",
       "      <td>...</td>\n",
       "      <td>...</td>\n",
       "      <td>...</td>\n",
       "      <td>...</td>\n",
       "      <td>...</td>\n",
       "      <td>...</td>\n",
       "      <td>...</td>\n",
       "      <td>...</td>\n",
       "    </tr>\n",
       "    <tr>\n",
       "      <th>387</th>\n",
       "      <td>ford mustang gl</td>\n",
       "      <td>27.0</td>\n",
       "      <td>4</td>\n",
       "      <td>140.0</td>\n",
       "      <td>86</td>\n",
       "      <td>2790</td>\n",
       "      <td>15.6</td>\n",
       "      <td>82</td>\n",
       "      <td>US</td>\n",
       "    </tr>\n",
       "    <tr>\n",
       "      <th>388</th>\n",
       "      <td>vw pickup</td>\n",
       "      <td>44.0</td>\n",
       "      <td>4</td>\n",
       "      <td>97.0</td>\n",
       "      <td>52</td>\n",
       "      <td>2130</td>\n",
       "      <td>24.6</td>\n",
       "      <td>82</td>\n",
       "      <td>Europe</td>\n",
       "    </tr>\n",
       "    <tr>\n",
       "      <th>389</th>\n",
       "      <td>dodge rampage</td>\n",
       "      <td>32.0</td>\n",
       "      <td>4</td>\n",
       "      <td>135.0</td>\n",
       "      <td>84</td>\n",
       "      <td>2295</td>\n",
       "      <td>11.6</td>\n",
       "      <td>82</td>\n",
       "      <td>US</td>\n",
       "    </tr>\n",
       "    <tr>\n",
       "      <th>390</th>\n",
       "      <td>ford ranger</td>\n",
       "      <td>28.0</td>\n",
       "      <td>4</td>\n",
       "      <td>120.0</td>\n",
       "      <td>79</td>\n",
       "      <td>2625</td>\n",
       "      <td>18.6</td>\n",
       "      <td>82</td>\n",
       "      <td>US</td>\n",
       "    </tr>\n",
       "    <tr>\n",
       "      <th>391</th>\n",
       "      <td>chevy s-10</td>\n",
       "      <td>31.0</td>\n",
       "      <td>4</td>\n",
       "      <td>119.0</td>\n",
       "      <td>82</td>\n",
       "      <td>2720</td>\n",
       "      <td>19.4</td>\n",
       "      <td>82</td>\n",
       "      <td>US</td>\n",
       "    </tr>\n",
       "  </tbody>\n",
       "</table>\n",
       "<p>392 rows × 9 columns</p>\n",
       "</div>"
      ],
      "text/plain": [
       "                         Model   MPG  Cylinders  Displacement  Horsepower  \\\n",
       "0    chevrolet chevelle malibu  18.0          8         307.0         130   \n",
       "1            buick skylark 320  15.0          8         350.0         165   \n",
       "2           plymouth satellite  18.0          8         318.0         150   \n",
       "3                amc rebel sst  16.0          8         304.0         150   \n",
       "4                  ford torino  17.0          8         302.0         140   \n",
       "..                         ...   ...        ...           ...         ...   \n",
       "387            ford mustang gl  27.0          4         140.0          86   \n",
       "388                  vw pickup  44.0          4          97.0          52   \n",
       "389              dodge rampage  32.0          4         135.0          84   \n",
       "390                ford ranger  28.0          4         120.0          79   \n",
       "391                 chevy s-10  31.0          4         119.0          82   \n",
       "\n",
       "     Weight  Acceleration  Year  Origin  \n",
       "0      3504          12.0    70      US  \n",
       "1      3693          11.5    70      US  \n",
       "2      3436          11.0    70      US  \n",
       "3      3433          12.0    70      US  \n",
       "4      3449          10.5    70      US  \n",
       "..      ...           ...   ...     ...  \n",
       "387    2790          15.6    82      US  \n",
       "388    2130          24.6    82  Europe  \n",
       "389    2295          11.6    82      US  \n",
       "390    2625          18.6    82      US  \n",
       "391    2720          19.4    82      US  \n",
       "\n",
       "[392 rows x 9 columns]"
      ]
     },
     "execution_count": 2,
     "metadata": {},
     "output_type": "execute_result"
    }
   ],
   "source": [
    "# or read_excel()\n",
    "cars_df = pd.read_csv('/kaggle/input/carscars/cars.csv', delimiter=';')\n",
    "cars = pd.DataFrame(cars_df)\n",
    "cars"
   ]
  },
  {
   "cell_type": "code",
   "execution_count": 3,
   "id": "2ca1a902",
   "metadata": {
    "execution": {
     "iopub.execute_input": "2023-10-22T13:48:58.051763Z",
     "iopub.status.busy": "2023-10-22T13:48:58.051392Z",
     "iopub.status.idle": "2023-10-22T13:48:58.074593Z",
     "shell.execute_reply": "2023-10-22T13:48:58.073502Z"
    },
    "papermill": {
     "duration": 0.03098,
     "end_time": "2023-10-22T13:48:58.077357",
     "exception": false,
     "start_time": "2023-10-22T13:48:58.046377",
     "status": "completed"
    },
    "tags": []
   },
   "outputs": [
    {
     "name": "stdout",
     "output_type": "stream",
     "text": [
      "<class 'pandas.core.frame.DataFrame'>\n",
      "RangeIndex: 392 entries, 0 to 391\n",
      "Data columns (total 9 columns):\n",
      " #   Column        Non-Null Count  Dtype  \n",
      "---  ------        --------------  -----  \n",
      " 0   Model         392 non-null    object \n",
      " 1   MPG           392 non-null    float64\n",
      " 2   Cylinders     392 non-null    int64  \n",
      " 3   Displacement  392 non-null    float64\n",
      " 4   Horsepower    392 non-null    int64  \n",
      " 5   Weight        392 non-null    int64  \n",
      " 6   Acceleration  392 non-null    float64\n",
      " 7   Year          392 non-null    int64  \n",
      " 8   Origin        392 non-null    object \n",
      "dtypes: float64(3), int64(4), object(2)\n",
      "memory usage: 27.7+ KB\n"
     ]
    }
   ],
   "source": [
    "cars.info()"
   ]
  },
  {
   "cell_type": "code",
   "execution_count": 4,
   "id": "41dc4517",
   "metadata": {
    "execution": {
     "iopub.execute_input": "2023-10-22T13:48:58.087492Z",
     "iopub.status.busy": "2023-10-22T13:48:58.087137Z",
     "iopub.status.idle": "2023-10-22T13:48:58.095362Z",
     "shell.execute_reply": "2023-10-22T13:48:58.094423Z"
    },
    "papermill": {
     "duration": 0.015197,
     "end_time": "2023-10-22T13:48:58.097155",
     "exception": false,
     "start_time": "2023-10-22T13:48:58.081958",
     "status": "completed"
    },
    "tags": []
   },
   "outputs": [
    {
     "data": {
      "text/plain": [
       "0      130\n",
       "1      165\n",
       "2      150\n",
       "3      150\n",
       "4      140\n",
       "      ... \n",
       "387     86\n",
       "388     52\n",
       "389     84\n",
       "390     79\n",
       "391     82\n",
       "Name: Horsepower, Length: 392, dtype: int64"
      ]
     },
     "execution_count": 4,
     "metadata": {},
     "output_type": "execute_result"
    }
   ],
   "source": [
    "y = cars.MPG\n",
    "x = cars.Horsepower\n",
    "x"
   ]
  },
  {
   "cell_type": "code",
   "execution_count": 5,
   "id": "0dae487d",
   "metadata": {
    "execution": {
     "iopub.execute_input": "2023-10-22T13:48:58.107111Z",
     "iopub.status.busy": "2023-10-22T13:48:58.106734Z",
     "iopub.status.idle": "2023-10-22T13:48:58.119018Z",
     "shell.execute_reply": "2023-10-22T13:48:58.118282Z"
    },
    "papermill": {
     "duration": 0.01966,
     "end_time": "2023-10-22T13:48:58.120961",
     "exception": false,
     "start_time": "2023-10-22T13:48:58.101301",
     "status": "completed"
    },
    "tags": []
   },
   "outputs": [
    {
     "data": {
      "text/html": [
       "<div>\n",
       "<style scoped>\n",
       "    .dataframe tbody tr th:only-of-type {\n",
       "        vertical-align: middle;\n",
       "    }\n",
       "\n",
       "    .dataframe tbody tr th {\n",
       "        vertical-align: top;\n",
       "    }\n",
       "\n",
       "    .dataframe thead th {\n",
       "        text-align: right;\n",
       "    }\n",
       "</style>\n",
       "<table border=\"1\" class=\"dataframe\">\n",
       "  <thead>\n",
       "    <tr style=\"text-align: right;\">\n",
       "      <th></th>\n",
       "      <th>Horsepower</th>\n",
       "    </tr>\n",
       "  </thead>\n",
       "  <tbody>\n",
       "    <tr>\n",
       "      <th>109</th>\n",
       "      <td>94</td>\n",
       "    </tr>\n",
       "    <tr>\n",
       "      <th>17</th>\n",
       "      <td>85</td>\n",
       "    </tr>\n",
       "    <tr>\n",
       "      <th>318</th>\n",
       "      <td>92</td>\n",
       "    </tr>\n",
       "    <tr>\n",
       "      <th>24</th>\n",
       "      <td>90</td>\n",
       "    </tr>\n",
       "    <tr>\n",
       "      <th>126</th>\n",
       "      <td>100</td>\n",
       "    </tr>\n",
       "    <tr>\n",
       "      <th>...</th>\n",
       "      <td>...</td>\n",
       "    </tr>\n",
       "    <tr>\n",
       "      <th>71</th>\n",
       "      <td>150</td>\n",
       "    </tr>\n",
       "    <tr>\n",
       "      <th>106</th>\n",
       "      <td>100</td>\n",
       "    </tr>\n",
       "    <tr>\n",
       "      <th>270</th>\n",
       "      <td>85</td>\n",
       "    </tr>\n",
       "    <tr>\n",
       "      <th>348</th>\n",
       "      <td>65</td>\n",
       "    </tr>\n",
       "    <tr>\n",
       "      <th>102</th>\n",
       "      <td>150</td>\n",
       "    </tr>\n",
       "  </tbody>\n",
       "</table>\n",
       "<p>274 rows × 1 columns</p>\n",
       "</div>"
      ],
      "text/plain": [
       "     Horsepower\n",
       "109          94\n",
       "17           85\n",
       "318          92\n",
       "24           90\n",
       "126         100\n",
       "..          ...\n",
       "71          150\n",
       "106         100\n",
       "270          85\n",
       "348          65\n",
       "102         150\n",
       "\n",
       "[274 rows x 1 columns]"
      ]
     },
     "execution_count": 5,
     "metadata": {},
     "output_type": "execute_result"
    }
   ],
   "source": [
    "x_train, x_test, y_train, y_test = train_test_split(pd.DataFrame(x), y, test_size=0.3, random_state = 42)\n",
    "x_train"
   ]
  },
  {
   "cell_type": "code",
   "execution_count": 6,
   "id": "074341bf",
   "metadata": {
    "execution": {
     "iopub.execute_input": "2023-10-22T13:48:58.132049Z",
     "iopub.status.busy": "2023-10-22T13:48:58.131719Z",
     "iopub.status.idle": "2023-10-22T13:48:58.156654Z",
     "shell.execute_reply": "2023-10-22T13:48:58.155771Z"
    },
    "papermill": {
     "duration": 0.033091,
     "end_time": "2023-10-22T13:48:58.158457",
     "exception": false,
     "start_time": "2023-10-22T13:48:58.125366",
     "status": "completed"
    },
    "tags": []
   },
   "outputs": [
    {
     "data": {
      "text/html": [
       "<style>#sk-container-id-1 {color: black;background-color: white;}#sk-container-id-1 pre{padding: 0;}#sk-container-id-1 div.sk-toggleable {background-color: white;}#sk-container-id-1 label.sk-toggleable__label {cursor: pointer;display: block;width: 100%;margin-bottom: 0;padding: 0.3em;box-sizing: border-box;text-align: center;}#sk-container-id-1 label.sk-toggleable__label-arrow:before {content: \"▸\";float: left;margin-right: 0.25em;color: #696969;}#sk-container-id-1 label.sk-toggleable__label-arrow:hover:before {color: black;}#sk-container-id-1 div.sk-estimator:hover label.sk-toggleable__label-arrow:before {color: black;}#sk-container-id-1 div.sk-toggleable__content {max-height: 0;max-width: 0;overflow: hidden;text-align: left;background-color: #f0f8ff;}#sk-container-id-1 div.sk-toggleable__content pre {margin: 0.2em;color: black;border-radius: 0.25em;background-color: #f0f8ff;}#sk-container-id-1 input.sk-toggleable__control:checked~div.sk-toggleable__content {max-height: 200px;max-width: 100%;overflow: auto;}#sk-container-id-1 input.sk-toggleable__control:checked~label.sk-toggleable__label-arrow:before {content: \"▾\";}#sk-container-id-1 div.sk-estimator input.sk-toggleable__control:checked~label.sk-toggleable__label {background-color: #d4ebff;}#sk-container-id-1 div.sk-label input.sk-toggleable__control:checked~label.sk-toggleable__label {background-color: #d4ebff;}#sk-container-id-1 input.sk-hidden--visually {border: 0;clip: rect(1px 1px 1px 1px);clip: rect(1px, 1px, 1px, 1px);height: 1px;margin: -1px;overflow: hidden;padding: 0;position: absolute;width: 1px;}#sk-container-id-1 div.sk-estimator {font-family: monospace;background-color: #f0f8ff;border: 1px dotted black;border-radius: 0.25em;box-sizing: border-box;margin-bottom: 0.5em;}#sk-container-id-1 div.sk-estimator:hover {background-color: #d4ebff;}#sk-container-id-1 div.sk-parallel-item::after {content: \"\";width: 100%;border-bottom: 1px solid gray;flex-grow: 1;}#sk-container-id-1 div.sk-label:hover label.sk-toggleable__label {background-color: #d4ebff;}#sk-container-id-1 div.sk-serial::before {content: \"\";position: absolute;border-left: 1px solid gray;box-sizing: border-box;top: 0;bottom: 0;left: 50%;z-index: 0;}#sk-container-id-1 div.sk-serial {display: flex;flex-direction: column;align-items: center;background-color: white;padding-right: 0.2em;padding-left: 0.2em;position: relative;}#sk-container-id-1 div.sk-item {position: relative;z-index: 1;}#sk-container-id-1 div.sk-parallel {display: flex;align-items: stretch;justify-content: center;background-color: white;position: relative;}#sk-container-id-1 div.sk-item::before, #sk-container-id-1 div.sk-parallel-item::before {content: \"\";position: absolute;border-left: 1px solid gray;box-sizing: border-box;top: 0;bottom: 0;left: 50%;z-index: -1;}#sk-container-id-1 div.sk-parallel-item {display: flex;flex-direction: column;z-index: 1;position: relative;background-color: white;}#sk-container-id-1 div.sk-parallel-item:first-child::after {align-self: flex-end;width: 50%;}#sk-container-id-1 div.sk-parallel-item:last-child::after {align-self: flex-start;width: 50%;}#sk-container-id-1 div.sk-parallel-item:only-child::after {width: 0;}#sk-container-id-1 div.sk-dashed-wrapped {border: 1px dashed gray;margin: 0 0.4em 0.5em 0.4em;box-sizing: border-box;padding-bottom: 0.4em;background-color: white;}#sk-container-id-1 div.sk-label label {font-family: monospace;font-weight: bold;display: inline-block;line-height: 1.2em;}#sk-container-id-1 div.sk-label-container {text-align: center;}#sk-container-id-1 div.sk-container {/* jupyter's `normalize.less` sets `[hidden] { display: none; }` but bootstrap.min.css set `[hidden] { display: none !important; }` so we also need the `!important` here to be able to override the default hidden behavior on the sphinx rendered scikit-learn.org. See: https://github.com/scikit-learn/scikit-learn/issues/21755 */display: inline-block !important;position: relative;}#sk-container-id-1 div.sk-text-repr-fallback {display: none;}</style><div id=\"sk-container-id-1\" class=\"sk-top-container\"><div class=\"sk-text-repr-fallback\"><pre>LinearRegression()</pre><b>In a Jupyter environment, please rerun this cell to show the HTML representation or trust the notebook. <br />On GitHub, the HTML representation is unable to render, please try loading this page with nbviewer.org.</b></div><div class=\"sk-container\" hidden><div class=\"sk-item\"><div class=\"sk-estimator sk-toggleable\"><input class=\"sk-toggleable__control sk-hidden--visually\" id=\"sk-estimator-id-1\" type=\"checkbox\" checked><label for=\"sk-estimator-id-1\" class=\"sk-toggleable__label sk-toggleable__label-arrow\">LinearRegression</label><div class=\"sk-toggleable__content\"><pre>LinearRegression()</pre></div></div></div></div></div>"
      ],
      "text/plain": [
       "LinearRegression()"
      ]
     },
     "execution_count": 6,
     "metadata": {},
     "output_type": "execute_result"
    }
   ],
   "source": [
    "regressor = LinearRegression()\n",
    "regressor.fit(x_train, y_train)\n"
   ]
  },
  {
   "cell_type": "code",
   "execution_count": 7,
   "id": "8d621e27",
   "metadata": {
    "execution": {
     "iopub.execute_input": "2023-10-22T13:48:58.168802Z",
     "iopub.status.busy": "2023-10-22T13:48:58.168444Z",
     "iopub.status.idle": "2023-10-22T13:48:58.178036Z",
     "shell.execute_reply": "2023-10-22T13:48:58.176531Z"
    },
    "papermill": {
     "duration": 0.017231,
     "end_time": "2023-10-22T13:48:58.180216",
     "exception": false,
     "start_time": "2023-10-22T13:48:58.162985",
     "status": "completed"
    },
    "tags": []
   },
   "outputs": [
    {
     "data": {
      "text/plain": [
       "array([29.60673686, 21.95467101, 31.10388018, 29.44038761, 26.77879949,\n",
       "       28.60864132, 12.80546185, 28.60864132, 25.28165617, 32.93372202,\n",
       "        9.47847669, 23.11911582, 15.30070071, 28.60864132, 18.96038438,\n",
       "       26.44610097, 25.28165617, 28.60864132, 27.77689503, 26.44610097,\n",
       "       25.28165617, 32.43467424, 29.77308612, 19.45943215, 29.93943538,\n",
       "       26.11340245, 26.61245023, 23.61816359, 33.43276979, 28.44229206,\n",
       "       16.96419329, 26.11340245, 20.29117844, 28.77499058, 16.132447  ,\n",
       "       29.93943538, 17.79593957, 27.77689503, 17.79593957,  5.31974525,\n",
       "       19.45943215, 28.60864132, 28.77499058, 28.10959355, 16.46514551,\n",
       "        5.31974525, 24.44990988, 29.60673686, 29.10768909, 29.44038761,\n",
       "       15.63339922, 25.28165617, 26.11340245, 26.44610097, 22.45371879,\n",
       "       22.7864173 , 22.7864173 , 24.44990988, 25.28165617, 25.28165617,\n",
       "        3.65625268, 26.11340245, 21.95467101, 26.44610097, 25.28165617,\n",
       "       27.61054577, 26.44610097, 29.44038761, 22.7864173 ,  8.14768263,\n",
       "       29.10768909, 11.97371556, 24.94895765, 26.11340245, 26.94514874,\n",
       "       27.77689503, 16.96419329, 16.132447  , 26.44610097, 22.7864173 ,\n",
       "       25.78070394, 24.94895765, 16.132447  , 30.43848315,  9.47847669,\n",
       "       30.77118167, 22.7864173 , 21.95467101, 22.7864173 , 24.44990988,\n",
       "       26.44610097, 28.44229206, 29.93943538, 26.94514874, 23.61816359,\n",
       "       21.12292473, 22.45371879, 12.80546185, 25.28165617, 24.94895765,\n",
       "        6.48419006, 22.7864173 ,  5.31974525, 33.43276979, 29.44038761,\n",
       "       30.27213389, 31.10388018, 25.9470532 , 24.78260839, 18.62768586,\n",
       "       29.93943538, 29.27403835, 26.77879949, 26.77879949, 30.27213389,\n",
       "       24.44990988, 17.79593957, 29.10768909])"
      ]
     },
     "execution_count": 7,
     "metadata": {},
     "output_type": "execute_result"
    }
   ],
   "source": [
    "y_pred = regressor.predict(x_test)\n",
    "y_pred"
   ]
  },
  {
   "cell_type": "code",
   "execution_count": 8,
   "id": "c3bfcdd5",
   "metadata": {
    "execution": {
     "iopub.execute_input": "2023-10-22T13:48:58.190633Z",
     "iopub.status.busy": "2023-10-22T13:48:58.190250Z",
     "iopub.status.idle": "2023-10-22T13:48:58.198151Z",
     "shell.execute_reply": "2023-10-22T13:48:58.196973Z"
    },
    "papermill": {
     "duration": 0.015159,
     "end_time": "2023-10-22T13:48:58.199975",
     "exception": false,
     "start_time": "2023-10-22T13:48:58.184816",
     "status": "completed"
    },
    "tags": []
   },
   "outputs": [
    {
     "data": {
      "text/plain": [
       "4.955413560049772"
      ]
     },
     "execution_count": 8,
     "metadata": {},
     "output_type": "execute_result"
    }
   ],
   "source": [
    "RMSE = sqrt(mean_squared_error(y_true = y_test, y_pred = y_pred))\n",
    "RMSE"
   ]
  },
  {
   "cell_type": "markdown",
   "id": "52e40b12",
   "metadata": {
    "papermill": {
     "duration": 0.004526,
     "end_time": "2023-10-22T13:48:58.209150",
     "exception": false,
     "start_time": "2023-10-22T13:48:58.204624",
     "status": "completed"
    },
    "tags": []
   },
   "source": [
    "Multiple Liner Regression"
   ]
  },
  {
   "cell_type": "code",
   "execution_count": 9,
   "id": "9c6c7e2c",
   "metadata": {
    "execution": {
     "iopub.execute_input": "2023-10-22T13:48:58.219998Z",
     "iopub.status.busy": "2023-10-22T13:48:58.219588Z",
     "iopub.status.idle": "2023-10-22T13:48:58.237906Z",
     "shell.execute_reply": "2023-10-22T13:48:58.236675Z"
    },
    "papermill": {
     "duration": 0.026518,
     "end_time": "2023-10-22T13:48:58.240119",
     "exception": false,
     "start_time": "2023-10-22T13:48:58.213601",
     "status": "completed"
    },
    "tags": []
   },
   "outputs": [
    {
     "data": {
      "text/html": [
       "<div>\n",
       "<style scoped>\n",
       "    .dataframe tbody tr th:only-of-type {\n",
       "        vertical-align: middle;\n",
       "    }\n",
       "\n",
       "    .dataframe tbody tr th {\n",
       "        vertical-align: top;\n",
       "    }\n",
       "\n",
       "    .dataframe thead th {\n",
       "        text-align: right;\n",
       "    }\n",
       "</style>\n",
       "<table border=\"1\" class=\"dataframe\">\n",
       "  <thead>\n",
       "    <tr style=\"text-align: right;\">\n",
       "      <th></th>\n",
       "      <th>Cylinders</th>\n",
       "      <th>Displacement</th>\n",
       "      <th>Horsepower</th>\n",
       "      <th>Weight</th>\n",
       "      <th>Acceleration</th>\n",
       "      <th>Year</th>\n",
       "    </tr>\n",
       "  </thead>\n",
       "  <tbody>\n",
       "    <tr>\n",
       "      <th>0</th>\n",
       "      <td>8</td>\n",
       "      <td>307.0</td>\n",
       "      <td>130</td>\n",
       "      <td>3504</td>\n",
       "      <td>12.0</td>\n",
       "      <td>70</td>\n",
       "    </tr>\n",
       "    <tr>\n",
       "      <th>1</th>\n",
       "      <td>8</td>\n",
       "      <td>350.0</td>\n",
       "      <td>165</td>\n",
       "      <td>3693</td>\n",
       "      <td>11.5</td>\n",
       "      <td>70</td>\n",
       "    </tr>\n",
       "    <tr>\n",
       "      <th>2</th>\n",
       "      <td>8</td>\n",
       "      <td>318.0</td>\n",
       "      <td>150</td>\n",
       "      <td>3436</td>\n",
       "      <td>11.0</td>\n",
       "      <td>70</td>\n",
       "    </tr>\n",
       "    <tr>\n",
       "      <th>3</th>\n",
       "      <td>8</td>\n",
       "      <td>304.0</td>\n",
       "      <td>150</td>\n",
       "      <td>3433</td>\n",
       "      <td>12.0</td>\n",
       "      <td>70</td>\n",
       "    </tr>\n",
       "    <tr>\n",
       "      <th>4</th>\n",
       "      <td>8</td>\n",
       "      <td>302.0</td>\n",
       "      <td>140</td>\n",
       "      <td>3449</td>\n",
       "      <td>10.5</td>\n",
       "      <td>70</td>\n",
       "    </tr>\n",
       "    <tr>\n",
       "      <th>...</th>\n",
       "      <td>...</td>\n",
       "      <td>...</td>\n",
       "      <td>...</td>\n",
       "      <td>...</td>\n",
       "      <td>...</td>\n",
       "      <td>...</td>\n",
       "    </tr>\n",
       "    <tr>\n",
       "      <th>387</th>\n",
       "      <td>4</td>\n",
       "      <td>140.0</td>\n",
       "      <td>86</td>\n",
       "      <td>2790</td>\n",
       "      <td>15.6</td>\n",
       "      <td>82</td>\n",
       "    </tr>\n",
       "    <tr>\n",
       "      <th>388</th>\n",
       "      <td>4</td>\n",
       "      <td>97.0</td>\n",
       "      <td>52</td>\n",
       "      <td>2130</td>\n",
       "      <td>24.6</td>\n",
       "      <td>82</td>\n",
       "    </tr>\n",
       "    <tr>\n",
       "      <th>389</th>\n",
       "      <td>4</td>\n",
       "      <td>135.0</td>\n",
       "      <td>84</td>\n",
       "      <td>2295</td>\n",
       "      <td>11.6</td>\n",
       "      <td>82</td>\n",
       "    </tr>\n",
       "    <tr>\n",
       "      <th>390</th>\n",
       "      <td>4</td>\n",
       "      <td>120.0</td>\n",
       "      <td>79</td>\n",
       "      <td>2625</td>\n",
       "      <td>18.6</td>\n",
       "      <td>82</td>\n",
       "    </tr>\n",
       "    <tr>\n",
       "      <th>391</th>\n",
       "      <td>4</td>\n",
       "      <td>119.0</td>\n",
       "      <td>82</td>\n",
       "      <td>2720</td>\n",
       "      <td>19.4</td>\n",
       "      <td>82</td>\n",
       "    </tr>\n",
       "  </tbody>\n",
       "</table>\n",
       "<p>392 rows × 6 columns</p>\n",
       "</div>"
      ],
      "text/plain": [
       "     Cylinders  Displacement  Horsepower  Weight  Acceleration  Year\n",
       "0            8         307.0         130    3504          12.0    70\n",
       "1            8         350.0         165    3693          11.5    70\n",
       "2            8         318.0         150    3436          11.0    70\n",
       "3            8         304.0         150    3433          12.0    70\n",
       "4            8         302.0         140    3449          10.5    70\n",
       "..         ...           ...         ...     ...           ...   ...\n",
       "387          4         140.0          86    2790          15.6    82\n",
       "388          4          97.0          52    2130          24.6    82\n",
       "389          4         135.0          84    2295          11.6    82\n",
       "390          4         120.0          79    2625          18.6    82\n",
       "391          4         119.0          82    2720          19.4    82\n",
       "\n",
       "[392 rows x 6 columns]"
      ]
     },
     "execution_count": 9,
     "metadata": {},
     "output_type": "execute_result"
    }
   ],
   "source": [
    "y = cars.MPG\n",
    "x = cars[['Cylinders', 'Displacement', 'Horsepower', 'Weight', 'Acceleration', 'Year']]\n",
    "x"
   ]
  },
  {
   "cell_type": "code",
   "execution_count": 10,
   "id": "a42817c7",
   "metadata": {
    "execution": {
     "iopub.execute_input": "2023-10-22T13:48:58.251566Z",
     "iopub.status.busy": "2023-10-22T13:48:58.251186Z",
     "iopub.status.idle": "2023-10-22T13:48:58.267314Z",
     "shell.execute_reply": "2023-10-22T13:48:58.266668Z"
    },
    "papermill": {
     "duration": 0.02397,
     "end_time": "2023-10-22T13:48:58.269108",
     "exception": false,
     "start_time": "2023-10-22T13:48:58.245138",
     "status": "completed"
    },
    "tags": []
   },
   "outputs": [
    {
     "data": {
      "text/html": [
       "<div>\n",
       "<style scoped>\n",
       "    .dataframe tbody tr th:only-of-type {\n",
       "        vertical-align: middle;\n",
       "    }\n",
       "\n",
       "    .dataframe tbody tr th {\n",
       "        vertical-align: top;\n",
       "    }\n",
       "\n",
       "    .dataframe thead th {\n",
       "        text-align: right;\n",
       "    }\n",
       "</style>\n",
       "<table border=\"1\" class=\"dataframe\">\n",
       "  <thead>\n",
       "    <tr style=\"text-align: right;\">\n",
       "      <th></th>\n",
       "      <th>Cylinders</th>\n",
       "      <th>Displacement</th>\n",
       "      <th>Horsepower</th>\n",
       "      <th>Weight</th>\n",
       "      <th>Acceleration</th>\n",
       "      <th>Year</th>\n",
       "    </tr>\n",
       "  </thead>\n",
       "  <tbody>\n",
       "    <tr>\n",
       "      <th>331</th>\n",
       "      <td>3</td>\n",
       "      <td>70.0</td>\n",
       "      <td>100</td>\n",
       "      <td>2420</td>\n",
       "      <td>12.5</td>\n",
       "      <td>80</td>\n",
       "    </tr>\n",
       "    <tr>\n",
       "      <th>379</th>\n",
       "      <td>4</td>\n",
       "      <td>91.0</td>\n",
       "      <td>67</td>\n",
       "      <td>1995</td>\n",
       "      <td>16.2</td>\n",
       "      <td>82</td>\n",
       "    </tr>\n",
       "    <tr>\n",
       "      <th>186</th>\n",
       "      <td>8</td>\n",
       "      <td>318.0</td>\n",
       "      <td>150</td>\n",
       "      <td>4190</td>\n",
       "      <td>13.0</td>\n",
       "      <td>76</td>\n",
       "    </tr>\n",
       "    <tr>\n",
       "      <th>346</th>\n",
       "      <td>4</td>\n",
       "      <td>105.0</td>\n",
       "      <td>63</td>\n",
       "      <td>2215</td>\n",
       "      <td>14.9</td>\n",
       "      <td>81</td>\n",
       "    </tr>\n",
       "    <tr>\n",
       "      <th>114</th>\n",
       "      <td>8</td>\n",
       "      <td>350.0</td>\n",
       "      <td>145</td>\n",
       "      <td>4082</td>\n",
       "      <td>13.0</td>\n",
       "      <td>73</td>\n",
       "    </tr>\n",
       "    <tr>\n",
       "      <th>...</th>\n",
       "      <td>...</td>\n",
       "      <td>...</td>\n",
       "      <td>...</td>\n",
       "      <td>...</td>\n",
       "      <td>...</td>\n",
       "      <td>...</td>\n",
       "    </tr>\n",
       "    <tr>\n",
       "      <th>319</th>\n",
       "      <td>4</td>\n",
       "      <td>108.0</td>\n",
       "      <td>75</td>\n",
       "      <td>2265</td>\n",
       "      <td>15.2</td>\n",
       "      <td>80</td>\n",
       "    </tr>\n",
       "    <tr>\n",
       "      <th>105</th>\n",
       "      <td>8</td>\n",
       "      <td>350.0</td>\n",
       "      <td>180</td>\n",
       "      <td>4499</td>\n",
       "      <td>12.5</td>\n",
       "      <td>73</td>\n",
       "    </tr>\n",
       "    <tr>\n",
       "      <th>330</th>\n",
       "      <td>6</td>\n",
       "      <td>168.0</td>\n",
       "      <td>132</td>\n",
       "      <td>2910</td>\n",
       "      <td>11.4</td>\n",
       "      <td>80</td>\n",
       "    </tr>\n",
       "    <tr>\n",
       "      <th>75</th>\n",
       "      <td>4</td>\n",
       "      <td>121.0</td>\n",
       "      <td>112</td>\n",
       "      <td>2933</td>\n",
       "      <td>14.5</td>\n",
       "      <td>72</td>\n",
       "    </tr>\n",
       "    <tr>\n",
       "      <th>349</th>\n",
       "      <td>4</td>\n",
       "      <td>105.0</td>\n",
       "      <td>74</td>\n",
       "      <td>2190</td>\n",
       "      <td>14.2</td>\n",
       "      <td>81</td>\n",
       "    </tr>\n",
       "  </tbody>\n",
       "</table>\n",
       "<p>98 rows × 6 columns</p>\n",
       "</div>"
      ],
      "text/plain": [
       "     Cylinders  Displacement  Horsepower  Weight  Acceleration  Year\n",
       "331          3          70.0         100    2420          12.5    80\n",
       "379          4          91.0          67    1995          16.2    82\n",
       "186          8         318.0         150    4190          13.0    76\n",
       "346          4         105.0          63    2215          14.9    81\n",
       "114          8         350.0         145    4082          13.0    73\n",
       "..         ...           ...         ...     ...           ...   ...\n",
       "319          4         108.0          75    2265          15.2    80\n",
       "105          8         350.0         180    4499          12.5    73\n",
       "330          6         168.0         132    2910          11.4    80\n",
       "75           4         121.0         112    2933          14.5    72\n",
       "349          4         105.0          74    2190          14.2    81\n",
       "\n",
       "[98 rows x 6 columns]"
      ]
     },
     "execution_count": 10,
     "metadata": {},
     "output_type": "execute_result"
    }
   ],
   "source": [
    "x_train, x_test, y_train, y_test = train_test_split(x, y)\n",
    "x_test"
   ]
  },
  {
   "cell_type": "code",
   "execution_count": 11,
   "id": "303a2b76",
   "metadata": {
    "execution": {
     "iopub.execute_input": "2023-10-22T13:48:58.281192Z",
     "iopub.status.busy": "2023-10-22T13:48:58.280889Z",
     "iopub.status.idle": "2023-10-22T13:48:58.299462Z",
     "shell.execute_reply": "2023-10-22T13:48:58.298444Z"
    },
    "papermill": {
     "duration": 0.027008,
     "end_time": "2023-10-22T13:48:58.301423",
     "exception": false,
     "start_time": "2023-10-22T13:48:58.274415",
     "status": "completed"
    },
    "tags": []
   },
   "outputs": [
    {
     "data": {
      "text/html": [
       "<div>\n",
       "<style scoped>\n",
       "    .dataframe tbody tr th:only-of-type {\n",
       "        vertical-align: middle;\n",
       "    }\n",
       "\n",
       "    .dataframe tbody tr th {\n",
       "        vertical-align: top;\n",
       "    }\n",
       "\n",
       "    .dataframe thead th {\n",
       "        text-align: right;\n",
       "    }\n",
       "</style>\n",
       "<table border=\"1\" class=\"dataframe\">\n",
       "  <thead>\n",
       "    <tr style=\"text-align: right;\">\n",
       "      <th></th>\n",
       "      <th>0</th>\n",
       "      <th>1</th>\n",
       "      <th>2</th>\n",
       "      <th>3</th>\n",
       "      <th>4</th>\n",
       "      <th>5</th>\n",
       "    </tr>\n",
       "  </thead>\n",
       "  <tbody>\n",
       "    <tr>\n",
       "      <th>0</th>\n",
       "      <td>0.0</td>\n",
       "      <td>0.005168</td>\n",
       "      <td>0.293478</td>\n",
       "      <td>0.228806</td>\n",
       "      <td>0.267857</td>\n",
       "      <td>0.833333</td>\n",
       "    </tr>\n",
       "    <tr>\n",
       "      <th>1</th>\n",
       "      <td>0.2</td>\n",
       "      <td>0.059432</td>\n",
       "      <td>0.114130</td>\n",
       "      <td>0.108307</td>\n",
       "      <td>0.488095</td>\n",
       "      <td>1.000000</td>\n",
       "    </tr>\n",
       "    <tr>\n",
       "      <th>2</th>\n",
       "      <td>1.0</td>\n",
       "      <td>0.645995</td>\n",
       "      <td>0.565217</td>\n",
       "      <td>0.730649</td>\n",
       "      <td>0.297619</td>\n",
       "      <td>0.500000</td>\n",
       "    </tr>\n",
       "    <tr>\n",
       "      <th>3</th>\n",
       "      <td>0.2</td>\n",
       "      <td>0.095607</td>\n",
       "      <td>0.092391</td>\n",
       "      <td>0.170683</td>\n",
       "      <td>0.410714</td>\n",
       "      <td>0.916667</td>\n",
       "    </tr>\n",
       "    <tr>\n",
       "      <th>4</th>\n",
       "      <td>1.0</td>\n",
       "      <td>0.728682</td>\n",
       "      <td>0.538043</td>\n",
       "      <td>0.700028</td>\n",
       "      <td>0.297619</td>\n",
       "      <td>0.250000</td>\n",
       "    </tr>\n",
       "    <tr>\n",
       "      <th>...</th>\n",
       "      <td>...</td>\n",
       "      <td>...</td>\n",
       "      <td>...</td>\n",
       "      <td>...</td>\n",
       "      <td>...</td>\n",
       "      <td>...</td>\n",
       "    </tr>\n",
       "    <tr>\n",
       "      <th>93</th>\n",
       "      <td>0.2</td>\n",
       "      <td>0.103359</td>\n",
       "      <td>0.157609</td>\n",
       "      <td>0.184860</td>\n",
       "      <td>0.428571</td>\n",
       "      <td>0.833333</td>\n",
       "    </tr>\n",
       "    <tr>\n",
       "      <th>94</th>\n",
       "      <td>1.0</td>\n",
       "      <td>0.728682</td>\n",
       "      <td>0.728261</td>\n",
       "      <td>0.818259</td>\n",
       "      <td>0.267857</td>\n",
       "      <td>0.250000</td>\n",
       "    </tr>\n",
       "    <tr>\n",
       "      <th>95</th>\n",
       "      <td>0.6</td>\n",
       "      <td>0.258398</td>\n",
       "      <td>0.467391</td>\n",
       "      <td>0.367735</td>\n",
       "      <td>0.202381</td>\n",
       "      <td>0.833333</td>\n",
       "    </tr>\n",
       "    <tr>\n",
       "      <th>96</th>\n",
       "      <td>0.2</td>\n",
       "      <td>0.136951</td>\n",
       "      <td>0.358696</td>\n",
       "      <td>0.374256</td>\n",
       "      <td>0.386905</td>\n",
       "      <td>0.166667</td>\n",
       "    </tr>\n",
       "    <tr>\n",
       "      <th>97</th>\n",
       "      <td>0.2</td>\n",
       "      <td>0.095607</td>\n",
       "      <td>0.152174</td>\n",
       "      <td>0.163595</td>\n",
       "      <td>0.369048</td>\n",
       "      <td>0.916667</td>\n",
       "    </tr>\n",
       "  </tbody>\n",
       "</table>\n",
       "<p>98 rows × 6 columns</p>\n",
       "</div>"
      ],
      "text/plain": [
       "      0         1         2         3         4         5\n",
       "0   0.0  0.005168  0.293478  0.228806  0.267857  0.833333\n",
       "1   0.2  0.059432  0.114130  0.108307  0.488095  1.000000\n",
       "2   1.0  0.645995  0.565217  0.730649  0.297619  0.500000\n",
       "3   0.2  0.095607  0.092391  0.170683  0.410714  0.916667\n",
       "4   1.0  0.728682  0.538043  0.700028  0.297619  0.250000\n",
       "..  ...       ...       ...       ...       ...       ...\n",
       "93  0.2  0.103359  0.157609  0.184860  0.428571  0.833333\n",
       "94  1.0  0.728682  0.728261  0.818259  0.267857  0.250000\n",
       "95  0.6  0.258398  0.467391  0.367735  0.202381  0.833333\n",
       "96  0.2  0.136951  0.358696  0.374256  0.386905  0.166667\n",
       "97  0.2  0.095607  0.152174  0.163595  0.369048  0.916667\n",
       "\n",
       "[98 rows x 6 columns]"
      ]
     },
     "execution_count": 11,
     "metadata": {},
     "output_type": "execute_result"
    }
   ],
   "source": [
    "scaler = MinMaxScaler()\n",
    "x_train_sc = pd.DataFrame(scaler.fit_transform(x_train))\n",
    "x_test_sc = pd.DataFrame(scaler.transform(x_test))\n",
    "\n",
    "x_test_sc\n",
    "\n"
   ]
  },
  {
   "cell_type": "code",
   "execution_count": 12,
   "id": "e79fc503",
   "metadata": {
    "execution": {
     "iopub.execute_input": "2023-10-22T13:48:58.313487Z",
     "iopub.status.busy": "2023-10-22T13:48:58.313096Z",
     "iopub.status.idle": "2023-10-22T13:48:58.331770Z",
     "shell.execute_reply": "2023-10-22T13:48:58.330762Z"
    },
    "papermill": {
     "duration": 0.02722,
     "end_time": "2023-10-22T13:48:58.334024",
     "exception": false,
     "start_time": "2023-10-22T13:48:58.306804",
     "status": "completed"
    },
    "tags": []
   },
   "outputs": [
    {
     "data": {
      "text/plain": [
       "178    25.0\n",
       "334    27.2\n",
       "268    21.1\n",
       "308    38.1\n",
       "43     13.0\n",
       "       ... \n",
       "264    30.0\n",
       "242    43.1\n",
       "24     21.0\n",
       "297    27.2\n",
       "38     14.0\n",
       "Name: MPG, Length: 294, dtype: float64"
      ]
     },
     "execution_count": 12,
     "metadata": {},
     "output_type": "execute_result"
    }
   ],
   "source": [
    "regressor = LinearRegression()\n",
    "regressor.fit(x_train_sc, y_train)\n",
    "\n",
    "y_train"
   ]
  },
  {
   "cell_type": "code",
   "execution_count": 13,
   "id": "fdf19c03",
   "metadata": {
    "execution": {
     "iopub.execute_input": "2023-10-22T13:48:58.346171Z",
     "iopub.status.busy": "2023-10-22T13:48:58.345854Z",
     "iopub.status.idle": "2023-10-22T13:48:58.354608Z",
     "shell.execute_reply": "2023-10-22T13:48:58.353547Z"
    },
    "papermill": {
     "duration": 0.017163,
     "end_time": "2023-10-22T13:48:58.356647",
     "exception": false,
     "start_time": "2023-10-22T13:48:58.339484",
     "status": "completed"
    },
    "tags": []
   },
   "outputs": [
    {
     "data": {
      "text/plain": [
       "array([30.36799458, 34.34181673, 14.91004869, 32.2106694 , 13.69536112,\n",
       "        9.91912857, 16.160675  , 16.58268246, 26.75502373, 13.73942293,\n",
       "        7.15726756, 16.34086418, 32.79590229, 25.50734785, 23.44511685,\n",
       "       17.07203297, 27.05190185, 32.03640779, 26.205747  , 15.96784709,\n",
       "       32.25350847, 21.25977073, 26.13920715, 32.73683375, 15.16935477,\n",
       "       10.33894702, 21.34943867, 23.56369145, 10.48370953, 25.34065987,\n",
       "       29.85212391, 34.55004521, 19.14331276, 15.89829002, 11.49516589,\n",
       "       11.35926203, 34.40496777, 26.93695345, 20.64645802, 26.61774463,\n",
       "       30.85020598, 21.22078227, 26.13565598, 29.07153024, 30.84961059,\n",
       "       22.02189871, 32.80490503, 30.26071737, 25.92971793, 26.5187426 ,\n",
       "       28.78889855, 19.72467366, 17.41342479, 24.1851986 , 31.49301717,\n",
       "       30.73628679,  9.96755482, 28.24365328, 27.09427664, 21.61607944,\n",
       "       27.39772698,  9.45470363, 14.85603068, 29.943403  , 17.91341767,\n",
       "       23.73155388, 27.86502823, 31.23283959, 28.41641377, 26.28542752,\n",
       "       29.09929382, 20.02999432, 20.35980615, 23.36027002, 27.89767608,\n",
       "       16.81592293, 25.65614596, 31.87683036, 26.89112687, 13.70205458,\n",
       "       21.49409347, 21.70334588, 11.30321873, 33.70752786, 11.69669479,\n",
       "       32.01282304, 17.97401787, 18.17701199, 29.82527635, 27.65958192,\n",
       "       12.85640686, 34.52734724, 21.88264422, 31.20714025, 10.93462888,\n",
       "       26.25700676, 21.1770697 , 32.36776643])"
      ]
     },
     "execution_count": 13,
     "metadata": {},
     "output_type": "execute_result"
    }
   ],
   "source": [
    "y_pred = regressor.predict(x_test_sc)\n",
    "y_pred"
   ]
  },
  {
   "cell_type": "code",
   "execution_count": 14,
   "id": "38f5294d",
   "metadata": {
    "execution": {
     "iopub.execute_input": "2023-10-22T13:48:58.369272Z",
     "iopub.status.busy": "2023-10-22T13:48:58.368924Z",
     "iopub.status.idle": "2023-10-22T13:48:58.376292Z",
     "shell.execute_reply": "2023-10-22T13:48:58.375098Z"
    },
    "papermill": {
     "duration": 0.015844,
     "end_time": "2023-10-22T13:48:58.378072",
     "exception": false,
     "start_time": "2023-10-22T13:48:58.362228",
     "status": "completed"
    },
    "tags": []
   },
   "outputs": [
    {
     "data": {
      "text/plain": [
       "3.4704645960527265"
      ]
     },
     "execution_count": 14,
     "metadata": {},
     "output_type": "execute_result"
    }
   ],
   "source": [
    "RMSE = sqrt(mean_squared_error(y_true = y_test, y_pred = y_pred))\n",
    "RMSE"
   ]
  }
 ],
 "metadata": {
  "kernelspec": {
   "display_name": "Python 3",
   "language": "python",
   "name": "python3"
  },
  "language_info": {
   "codemirror_mode": {
    "name": "ipython",
    "version": 3
   },
   "file_extension": ".py",
   "mimetype": "text/x-python",
   "name": "python",
   "nbconvert_exporter": "python",
   "pygments_lexer": "ipython3",
   "version": "3.10.12"
  },
  "papermill": {
   "default_parameters": {},
   "duration": 6.876304,
   "end_time": "2023-10-22T13:48:59.005854",
   "environment_variables": {},
   "exception": null,
   "input_path": "__notebook__.ipynb",
   "output_path": "__notebook__.ipynb",
   "parameters": {},
   "start_time": "2023-10-22T13:48:52.129550",
   "version": "2.4.0"
  }
 },
 "nbformat": 4,
 "nbformat_minor": 5
}
